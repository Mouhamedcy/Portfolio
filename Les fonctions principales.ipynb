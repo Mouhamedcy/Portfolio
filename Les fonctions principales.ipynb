{
 "cells": [
  {
   "cell_type": "code",
   "execution_count": 5,
   "id": "73b833fd-3083-4fc2-b1af-e6cdd61f5906",
   "metadata": {},
   "outputs": [],
   "source": [
    "maListe = [\"a\" , \"b\" , \"c\" , \"d\" , \"e\"]"
   ]
  },
  {
   "cell_type": "code",
   "execution_count": 6,
   "id": "51559185-137a-4017-a2a1-20b68301e0a5",
   "metadata": {},
   "outputs": [
    {
     "data": {
      "text/plain": [
       "['a', 'b', 'c', 'd', 'e']"
      ]
     },
     "execution_count": 6,
     "metadata": {},
     "output_type": "execute_result"
    }
   ],
   "source": [
    "maListe"
   ]
  },
  {
   "cell_type": "code",
   "execution_count": 7,
   "id": "e585ba80-775f-4215-a1c5-f61751eb2039",
   "metadata": {},
   "outputs": [],
   "source": [
    "maListe1 = [1, 2, 3, 4, 4, 6]"
   ]
  },
  {
   "cell_type": "code",
   "execution_count": 8,
   "id": "ead7bc16-ca45-4dff-8fef-124a89bdda64",
   "metadata": {},
   "outputs": [
    {
     "data": {
      "text/plain": [
       "[1, 2, 3, 4, 4, 6]"
      ]
     },
     "execution_count": 8,
     "metadata": {},
     "output_type": "execute_result"
    }
   ],
   "source": [
    "maListe1"
   ]
  },
  {
   "cell_type": "code",
   "execution_count": 9,
   "id": "e3e480c5-bc49-49c1-ab50-f7c90ed04897",
   "metadata": {},
   "outputs": [
    {
     "data": {
      "text/plain": [
       "'d'"
      ]
     },
     "execution_count": 9,
     "metadata": {},
     "output_type": "execute_result"
    }
   ],
   "source": [
    "maListe[3]"
   ]
  },
  {
   "cell_type": "code",
   "execution_count": 10,
   "id": "bd7003f6-cc78-4ae6-b065-1494ea2ba647",
   "metadata": {},
   "outputs": [
    {
     "data": {
      "text/plain": [
       "3"
      ]
     },
     "execution_count": 10,
     "metadata": {},
     "output_type": "execute_result"
    }
   ],
   "source": [
    "maListe1[2]"
   ]
  },
  {
   "cell_type": "code",
   "execution_count": null,
   "id": "56ca1e19-bbf9-4599-82e4-50bd95d4a3a5",
   "metadata": {},
   "outputs": [],
   "source": []
  }
 ],
 "metadata": {
  "kernelspec": {
   "display_name": "Python 3 (ipykernel)",
   "language": "python",
   "name": "python3"
  },
  "language_info": {
   "codemirror_mode": {
    "name": "ipython",
    "version": 3
   },
   "file_extension": ".py",
   "mimetype": "text/x-python",
   "name": "python",
   "nbconvert_exporter": "python",
   "pygments_lexer": "ipython3",
   "version": "3.11.7"
  }
 },
 "nbformat": 4,
 "nbformat_minor": 5
}
